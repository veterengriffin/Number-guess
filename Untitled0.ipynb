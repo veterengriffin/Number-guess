{
  "nbformat": 4,
  "nbformat_minor": 0,
  "metadata": {
    "colab": {
      "provenance": [],
      "authorship_tag": "ABX9TyMeX7TePqvJ37LLQsZMsvan",
      "include_colab_link": true
    },
    "kernelspec": {
      "name": "python3",
      "display_name": "Python 3"
    },
    "language_info": {
      "name": "python"
    }
  },
  "cells": [
    {
      "cell_type": "markdown",
      "metadata": {
        "id": "view-in-github",
        "colab_type": "text"
      },
      "source": [
        "<a href=\"https://colab.research.google.com/github/veterengriffin/Number-guess/blob/main/Untitled0.ipynb\" target=\"_parent\"><img src=\"https://colab.research.google.com/assets/colab-badge.svg\" alt=\"Open In Colab\"/></a>"
      ]
    },
    {
      "cell_type": "code",
      "execution_count": 1,
      "metadata": {
        "colab": {
          "base_uri": "https://localhost:8080/"
        },
        "id": "Yqwc6nb6TWi_",
        "outputId": "97e69bf3-5d20-4b2d-e1e4-7c02d3d4a332"
      },
      "outputs": [
        {
          "output_type": "stream",
          "name": "stdout",
          "text": [
            "Enter Lower bound:- 30\n",
            "Enter Upper bound:- 100\n",
            "\n",
            "\tYou've only  6  chances to guess the integer!\n",
            "\n",
            "Guess a number:- 40\n",
            "You guessed too small!\n",
            "Guess a number:- 60\n",
            "You guessed too small!\n",
            "Guess a number:- 90\n",
            "You Guessed too high!\n",
            "Guess a number:- 80\n",
            "You Guessed too high!\n",
            "Guess a number:- 70\n",
            "You guessed too small!\n",
            "Guess a number:- 66\n",
            "You guessed too small!\n",
            "Guess a number:- 68\n",
            "You guessed too small!\n",
            "\n",
            "The number is 74\n",
            "\tBetter Luck Next time!\n"
          ]
        }
      ],
      "source": [
        "import random\n",
        "import math\n",
        "# Taking Inputs\n",
        "lower = int(input(\"Enter Lower bound:- \"))\n",
        "\n",
        "# Taking Inputs\n",
        "upper = int(input(\"Enter Upper bound:- \"))\n",
        "\n",
        "# generating random number between\n",
        "# the lower and upper\n",
        "x = random.randint(lower, upper)\n",
        "print(\"\\n\\tYou've only \",\n",
        "\tround(math.log(upper - lower + 1, 2)),\n",
        "\t\" chances to guess the integer!\\n\")\n",
        "\n",
        "# Initializing the number of guesses.\n",
        "count = 0\n",
        "\n",
        "# for calculation of minimum number of\n",
        "# guesses depends upon range\n",
        "while count < math.log(upper - lower + 1, 2):\n",
        "\tcount += 1\n",
        "\n",
        "\t# taking guessing number as input\n",
        "\tguess = int(input(\"Guess a number:- \"))\n",
        "\n",
        "\t# Condition testing\n",
        "\tif x == guess:\n",
        "\t\tprint(\"Congratulations you did it in \",\n",
        "\t\t\tcount, \" try\")\n",
        "\t\t# Once guessed, loop will break\n",
        "\t\tbreak\n",
        "\telif x > guess:\n",
        "\t\tprint(\"You guessed too small!\")\n",
        "\telif x < guess:\n",
        "\t\tprint(\"You Guessed too high!\")\n",
        "\n",
        "# If Guessing is more than required guesses,\n",
        "# shows this output.\n",
        "if count >= math.log(upper - lower + 1, 2):\n",
        "\tprint(\"\\nThe number is %d\" % x)\n",
        "\tprint(\"\\tBetter Luck Next time!\")\n",
        "\n",
        "# Better to use This source Code on pycharm!\n"
      ]
    }
  ]
}